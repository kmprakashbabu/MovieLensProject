{
 "cells": [
  {
   "cell_type": "markdown",
   "metadata": {},
   "source": [
    "### `Project - MovieLens Data Analysis`\n",
    "\n",
    "The GroupLens Research Project is a research group in the Department of Computer Science and Engineering at the University of Minnesota. The data is widely used for collaborative filtering and other filtering solutions. However, we will be using this data to act as a means to demonstrate our skill in using Python to “play” with data.\n",
    "\n",
    "\n",
    "### `Objective:`\n",
    "- To implement the techniques learnt as a part of the course.\n",
    "\n",
    "### `Learning Outcomes:`\n",
    "- Exploratory Data Analysis\n",
    "\n",
    "- Visualization using Python\n",
    "\n",
    "- Pandas – groupby, merging \n",
    "\n",
    "\n",
    "### `Domain` \n",
    "- Internet and Entertainment\n",
    "\n",
    "**Note that the project will need you to apply the concepts of groupby and merging extensively.**"
   ]
  },
  {
   "cell_type": "markdown",
   "metadata": {},
   "source": [
    "### `Datasets Information:`\n",
    "\n",
    "\n",
    "*rating.csv:* It contains information on ratings given by the users to a particular movie.\n",
    "- user id: id assigned to every user\n",
    "- movie id: id assigned to every movie\n",
    "- rating: rating given by the user\n",
    "- timestamp: Time recorded when the user gave a rating\n",
    "\n",
    "\n",
    "\n",
    "*movie.csv:* File contains information related to the movies and their genre.\n",
    "- movie id: id assigned to every movie\n",
    "- movie title: Title of the movie\n",
    "- release date: Date of release of the movie\n",
    "- Action: Genre containing binary values (1 - for action 0 - not action)\n",
    "- Adventure: Genre containing binary values (1 - for adventure 0 - not adventure)\n",
    "- Animation: Genre containing binary values (1 - for animation 0 - not animation)\n",
    "- Children’s: Genre containing binary values (1 - for children's 0 - not children's)\n",
    "- Comedy: Genre containing binary values (1 - for comedy 0 - not comedy)\n",
    "- Crime: Genre containing binary values (1 - for crime 0 - not crime)\n",
    "- Documentary: Genre containing binary values (1 - for documentary 0 - not documentary)\n",
    "- Drama: Genre containing binary values (1 - for drama 0 - not drama)\n",
    "- Fantasy: Genre containing binary values (1 - for fantasy 0 - not fantasy)\n",
    "- Film-Noir: Genre containing binary values (1 - for film-noir 0 - not film-noir)\n",
    "- Horror: Genre containing binary values (1 - for horror 0 - not horror)\n",
    "- Musical: Genre containing binary values (1 - for musical 0 - not musical)\n",
    "- Mystery: Genre containing binary values (1 - for mystery 0 - not mystery)\n",
    "- Romance: Genre containing binary values (1 - for romance 0 - not romance)\n",
    "- Sci-Fi: Genre containing binary values (1 - for sci-fi 0 - not sci-fi)\n",
    "- Thriller: Genre containing binary values (1 - for thriller 0 - not thriller)\n",
    "- War: Genre containing binary values (1 - for war 0 - not war)\n",
    "- Western: Genre containing binary values (1 - for western - not western)\n",
    "\n",
    "\n",
    "\n",
    "*user.csv:* It contains information of the users who have rated the movies.\n",
    "- user id: id assigned to every user\n",
    "- age: Age of the user\n",
    "- gender: Gender of the user\n",
    "- occupation: Occupation of the user\n",
    "- zip code: Zip code of the use\n",
    "\n",
    "\n",
    "**`Please provide you insights wherever necessary.`**"
   ]
  },
  {
   "cell_type": "markdown",
   "metadata": {},
   "source": [
    "**Git Hub URL**   :  https://github.com/kmprakashbabu/MovieLensProject`"
   ]
  },
  {
   "cell_type": "markdown",
   "metadata": {},
   "source": [
    "### 1. Import the necessary packages - 2.5 marks"
   ]
  },
  {
   "cell_type": "code",
   "execution_count": 1,
   "metadata": {},
   "outputs": [],
   "source": [
    "#import required libraries to work with data and charts\n",
    "import numpy as np\n",
    "import pandas as pd\n",
    "import matplotlib.pyplot as plt\n",
    "import matplotlib as mp\n",
    "import seaborn as sns\n",
    "#import datetime\n",
    "#sns.set(color_codes=True)\n",
    "%matplotlib inline"
   ]
  },
  {
   "cell_type": "markdown",
   "metadata": {},
   "source": [
    "### 2. Read the 3 datasets into dataframes - 2.5 marks"
   ]
  },
  {
   "cell_type": "code",
   "execution_count": 2,
   "metadata": {
    "scrolled": true
   },
   "outputs": [],
   "source": [
    "# load all the required data from .csv files\n",
    "ratings_df = pd.read_csv(\"Data.csv\")\n",
    "movies_df  = pd.read_csv(\"item.csv\")\n",
    "users_df   = pd.read_csv(\"user.csv\")"
   ]
  },
  {
   "cell_type": "markdown",
   "metadata": {},
   "source": [
    "### 3. Apply info, shape, describe, and find the number of missing values in the data - 5 marks\n",
    " - Note that you will need to do it for all the three datasets seperately"
   ]
  },
  {
   "cell_type": "code",
   "execution_count": 3,
   "metadata": {},
   "outputs": [
    {
     "name": "stdout",
     "output_type": "stream",
     "text": [
      "-------------------------------Ratings data frame details ----------------------------\n",
      "Shape :  (100000, 4)\n",
      "Info : \n",
      "\n",
      "<class 'pandas.core.frame.DataFrame'>\n",
      "RangeIndex: 100000 entries, 0 to 99999\n",
      "Data columns (total 4 columns):\n",
      " #   Column     Non-Null Count   Dtype\n",
      "---  ------     --------------   -----\n",
      " 0   user id    100000 non-null  int64\n",
      " 1   movie id   100000 non-null  int64\n",
      " 2   rating     100000 non-null  int64\n",
      " 3   timestamp  100000 non-null  int64\n",
      "dtypes: int64(4)\n",
      "memory usage: 3.1 MB\n",
      "Desc : \n",
      "             user id       movie id         rating     timestamp\n",
      "count  100000.00000  100000.000000  100000.000000  1.000000e+05\n",
      "mean      462.48475     425.530130       3.529860  8.835289e+08\n",
      "std       266.61442     330.798356       1.125674  5.343856e+06\n",
      "min         1.00000       1.000000       1.000000  8.747247e+08\n",
      "25%       254.00000     175.000000       3.000000  8.794487e+08\n",
      "50%       447.00000     322.000000       4.000000  8.828269e+08\n",
      "75%       682.00000     631.000000       4.000000  8.882600e+08\n",
      "max       943.00000    1682.000000       5.000000  8.932866e+08\n",
      "Missing values : \n",
      " user id      0\n",
      "movie id     0\n",
      "rating       0\n",
      "timestamp    0\n",
      "dtype: int64\n",
      "Missing value count : \n",
      " 0\n",
      "-------------------------------Ratings data frame details ----------------------------\n",
      "-------------------------------Movies data frame details ----------------------------\n",
      "Shape :  (1681, 22)\n",
      "Info : \n",
      "\n",
      "<class 'pandas.core.frame.DataFrame'>\n",
      "RangeIndex: 1681 entries, 0 to 1680\n",
      "Data columns (total 22 columns):\n",
      " #   Column        Non-Null Count  Dtype \n",
      "---  ------        --------------  ----- \n",
      " 0   movie id      1681 non-null   int64 \n",
      " 1   movie title   1681 non-null   object\n",
      " 2   release date  1681 non-null   object\n",
      " 3   unknown       1681 non-null   int64 \n",
      " 4   Action        1681 non-null   int64 \n",
      " 5   Adventure     1681 non-null   int64 \n",
      " 6   Animation     1681 non-null   int64 \n",
      " 7   Childrens     1681 non-null   int64 \n",
      " 8   Comedy        1681 non-null   int64 \n",
      " 9   Crime         1681 non-null   int64 \n",
      " 10  Documentary   1681 non-null   int64 \n",
      " 11  Drama         1681 non-null   int64 \n",
      " 12  Fantasy       1681 non-null   int64 \n",
      " 13  Film-Noir     1681 non-null   int64 \n",
      " 14  Horror        1681 non-null   int64 \n",
      " 15  Musical       1681 non-null   int64 \n",
      " 16  Mystery       1681 non-null   int64 \n",
      " 17  Romance       1681 non-null   int64 \n",
      " 18  Sci-Fi        1681 non-null   int64 \n",
      " 19  Thriller      1681 non-null   int64 \n",
      " 20  War           1681 non-null   int64 \n",
      " 21  Western       1681 non-null   int64 \n",
      "dtypes: int64(20), object(2)\n",
      "memory usage: 289.0+ KB\n",
      "Desc : \n",
      "           movie id      unknown       Action    Adventure    Animation  \\\n",
      "count  1681.000000  1681.000000  1681.000000  1681.000000  1681.000000   \n",
      "mean    841.841761     0.000595     0.149316     0.080309     0.024985   \n",
      "std     485.638077     0.024390     0.356506     0.271852     0.156126   \n",
      "min       1.000000     0.000000     0.000000     0.000000     0.000000   \n",
      "25%     422.000000     0.000000     0.000000     0.000000     0.000000   \n",
      "50%     842.000000     0.000000     0.000000     0.000000     0.000000   \n",
      "75%    1262.000000     0.000000     0.000000     0.000000     0.000000   \n",
      "max    1682.000000     1.000000     1.000000     1.000000     1.000000   \n",
      "\n",
      "         Childrens       Comedy        Crime  Documentary        Drama  \\\n",
      "count  1681.000000  1681.000000  1681.000000  1681.000000  1681.000000   \n",
      "mean      0.072576     0.300416     0.064842     0.029744     0.431291   \n",
      "std       0.259516     0.458576     0.246321     0.169931     0.495404   \n",
      "min       0.000000     0.000000     0.000000     0.000000     0.000000   \n",
      "25%       0.000000     0.000000     0.000000     0.000000     0.000000   \n",
      "50%       0.000000     0.000000     0.000000     0.000000     0.000000   \n",
      "75%       0.000000     1.000000     0.000000     0.000000     1.000000   \n",
      "max       1.000000     1.000000     1.000000     1.000000     1.000000   \n",
      "\n",
      "           Fantasy    Film-Noir       Horror      Musical      Mystery  \\\n",
      "count  1681.000000  1681.000000  1681.000000  1681.000000  1681.000000   \n",
      "mean      0.013087     0.014277     0.054729     0.033314     0.036288   \n",
      "std       0.113683     0.118667     0.227519     0.179507     0.187061   \n",
      "min       0.000000     0.000000     0.000000     0.000000     0.000000   \n",
      "25%       0.000000     0.000000     0.000000     0.000000     0.000000   \n",
      "50%       0.000000     0.000000     0.000000     0.000000     0.000000   \n",
      "75%       0.000000     0.000000     0.000000     0.000000     0.000000   \n",
      "max       1.000000     1.000000     1.000000     1.000000     1.000000   \n",
      "\n",
      "           Romance       Sci-Fi     Thriller          War      Western  \n",
      "count  1681.000000  1681.000000  1681.000000  1681.000000  1681.000000  \n",
      "mean      0.146936     0.060083     0.149316     0.042237     0.016062  \n",
      "std       0.354148     0.237712     0.356506     0.201189     0.125751  \n",
      "min       0.000000     0.000000     0.000000     0.000000     0.000000  \n",
      "25%       0.000000     0.000000     0.000000     0.000000     0.000000  \n",
      "50%       0.000000     0.000000     0.000000     0.000000     0.000000  \n",
      "75%       0.000000     0.000000     0.000000     0.000000     0.000000  \n",
      "max       1.000000     1.000000     1.000000     1.000000     1.000000  \n",
      "Missing values : \n",
      " movie id        0\n",
      "movie title     0\n",
      "release date    0\n",
      "unknown         0\n",
      "Action          0\n",
      "Adventure       0\n",
      "Animation       0\n",
      "Childrens       0\n",
      "Comedy          0\n",
      "Crime           0\n",
      "Documentary     0\n",
      "Drama           0\n",
      "Fantasy         0\n",
      "Film-Noir       0\n",
      "Horror          0\n",
      "Musical         0\n",
      "Mystery         0\n",
      "Romance         0\n",
      "Sci-Fi          0\n",
      "Thriller        0\n",
      "War             0\n",
      "Western         0\n",
      "dtype: int64\n",
      "Missing value count : \n",
      " 0\n",
      "-------------------------------Movies data frame details ----------------------------\n",
      "-------------------------------Users data frame details ----------------------------\n",
      "Shape :  (943, 5)\n",
      "Info : \n",
      "\n",
      "<class 'pandas.core.frame.DataFrame'>\n",
      "RangeIndex: 943 entries, 0 to 942\n",
      "Data columns (total 5 columns):\n",
      " #   Column      Non-Null Count  Dtype \n",
      "---  ------      --------------  ----- \n",
      " 0   user id     943 non-null    int64 \n",
      " 1   age         943 non-null    int64 \n",
      " 2   gender      943 non-null    object\n",
      " 3   occupation  943 non-null    object\n",
      " 4   zip code    943 non-null    object\n",
      "dtypes: int64(2), object(3)\n",
      "memory usage: 37.0+ KB\n",
      "Desc : \n",
      "           user id         age\n",
      "count  943.000000  943.000000\n",
      "mean   472.000000   34.051962\n",
      "std    272.364951   12.192740\n",
      "min      1.000000    7.000000\n",
      "25%    236.500000   25.000000\n",
      "50%    472.000000   31.000000\n",
      "75%    707.500000   43.000000\n",
      "max    943.000000   73.000000\n",
      "Missing values : \n",
      " user id       0\n",
      "age           0\n",
      "gender        0\n",
      "occupation    0\n",
      "zip code      0\n",
      "dtype: int64\n",
      "Missing value count : \n",
      " 0\n",
      "-------------------------------Users data frame details ----------------------------\n"
     ]
    }
   ],
   "source": [
    "#Ratings data frame exploration\n",
    "print(\"-------------------------------Ratings data frame details ----------------------------\")\n",
    "print(\"Shape : \",ratings_df.shape)\n",
    "print(\"Info : \\n\")\n",
    "ratings_df.info()\n",
    "print(\"Desc : \\n\",ratings_df.describe())\n",
    "print(\"Missing values : \\n\",ratings_df.isnull().sum())\n",
    "print(\"Missing value count : \\n\",ratings_df.isnull().sum().sum())\n",
    "print(\"-------------------------------Ratings data frame details ----------------------------\")\n",
    "\n",
    "#Movie data frame exploration\n",
    "print(\"-------------------------------Movies data frame details ----------------------------\")\n",
    "print(\"Shape : \",movies_df.shape)\n",
    "print(\"Info : \\n\")\n",
    "movies_df.info()\n",
    "print(\"Desc : \\n\",movies_df.describe())\n",
    "print(\"Missing values : \\n\",movies_df.isnull().sum())\n",
    "print(\"Missing value count : \\n\",movies_df.isnull().sum().sum())\n",
    "print(\"-------------------------------Movies data frame details ----------------------------\")\n",
    "\n",
    "#User data frame exploration\n",
    "print(\"-------------------------------Users data frame details ----------------------------\")\n",
    "print(\"Shape : \",users_df.shape)\n",
    "print(\"Info : \\n\")\n",
    "users_df.info()\n",
    "print(\"Desc : \\n\",users_df.describe())\n",
    "print(\"Missing values : \\n\",users_df.isnull().sum())\n",
    "print(\"Missing value count : \\n\",users_df.isnull().sum().sum())\n",
    "print(\"-------------------------------Users data frame details ----------------------------\")"
   ]
  },
  {
   "cell_type": "markdown",
   "metadata": {},
   "source": [
    "### 4. Find the number of movies per genre using the item data - 2.5 marks"
   ]
  },
  {
   "cell_type": "code",
   "execution_count": 4,
   "metadata": {
    "scrolled": true
   },
   "outputs": [
    {
     "data": {
      "text/plain": [
       "movie id                                                  1415136\n",
       "movie title     Toy Story GoldenEye Four Rooms Get Shorty Copy...\n",
       "release date    01-Jan-199501-Jan-199501-Jan-199501-Jan-199501...\n",
       "unknown                                                         1\n",
       "Action                                                        251\n",
       "Adventure                                                     135\n",
       "Animation                                                      42\n",
       "Childrens                                                     122\n",
       "Comedy                                                        505\n",
       "Crime                                                         109\n",
       "Documentary                                                    50\n",
       "Drama                                                         725\n",
       "Fantasy                                                        22\n",
       "Film-Noir                                                      24\n",
       "Horror                                                         92\n",
       "Musical                                                        56\n",
       "Mystery                                                        61\n",
       "Romance                                                       247\n",
       "Sci-Fi                                                        101\n",
       "Thriller                                                      251\n",
       "War                                                            71\n",
       "Western                                                        27\n",
       "dtype: object"
      ]
     },
     "execution_count": 4,
     "metadata": {},
     "output_type": "execute_result"
    }
   ],
   "source": [
    "#find the sum of each series which is genre\n",
    "movies_df.sum()"
   ]
  },
  {
   "cell_type": "markdown",
   "metadata": {},
   "source": [
    "### 5. Drop the movie where the genre is unknown - 2.5 marks"
   ]
  },
  {
   "cell_type": "code",
   "execution_count": 5,
   "metadata": {},
   "outputs": [
    {
     "name": "stdout",
     "output_type": "stream",
     "text": [
      "(1681, 22)\n",
      "(1680, 22)\n"
     ]
    }
   ],
   "source": [
    "# filter the movies data frame where unknown == 1\n",
    "print(movies_df.shape)\n",
    "movies_df.drop(movies_df[movies_df[\"unknown\"] == 1].index,inplace=True)\n",
    "print(movies_df.shape)"
   ]
  },
  {
   "cell_type": "markdown",
   "metadata": {},
   "source": [
    "### 6. Find the movies that have more than one genre - 5 marks\n",
    "\n",
    "hint: use sum on the axis = 1\n",
    "\n",
    "Display movie name, number of genres for the movie in dataframe\n",
    "\n",
    "and also print(total number of movies which have more than one genres)"
   ]
  },
  {
   "cell_type": "code",
   "execution_count": 6,
   "metadata": {},
   "outputs": [
    {
     "name": "stdout",
     "output_type": "stream",
     "text": [
      "['movie id', 'movie title', 'release date', 'unknown', 'Action', 'Adventure', 'Animation', 'Childrens', 'Comedy', 'Crime', 'Documentary', 'Drama', 'Fantasy', 'Film-Noir', 'Horror', 'Musical', 'Mystery', 'Romance', 'Sci-Fi', 'Thriller', 'War', 'Western']\n",
      "                              movie title  Number Of Genres\n",
      "0                              Toy Story                  3\n",
      "1                              GoldenEye                  3\n",
      "2                             Four Rooms                  1\n",
      "3                             Get Shorty                  3\n",
      "4                                Copycat                  3\n",
      "...                                   ...               ...\n",
      "1676                          Mat' i syn                  1\n",
      "1677                           B. Monkey                  2\n",
      "1678                       Sliding Doors                  2\n",
      "1679                        You So Crazy                  1\n",
      "1680  Scream of Stone (Schrei aus Stein)                  1\n",
      "\n",
      "[1680 rows x 2 columns]\n",
      "Total no. of movies with more than 1 Genre :  849\n"
     ]
    }
   ],
   "source": [
    "# To run this cell multiple times, first check if the \"Number Of Genres\" column exist. If yes then remove first\n",
    "print(list(movies_df.columns))\n",
    "if 'Number Of Genres' in movies_df.columns:\n",
    "    movies_df.drop('Number Of Genres',axis=1,inplace=True)\n",
    "movies_df[\"Number Of Genres\"] = movies_df.drop(['movie id','release date'],axis=1).sum(axis=1)\n",
    "print(movies_df[['movie title','Number Of Genres']])\n",
    "\n",
    "movies_df_copy = movies_df[['movie title','Number Of Genres']].copy()\n",
    "\n",
    "print(\"Total no. of movies with more than 1 Genre : \",movies_df_copy[movies_df_copy[\"Number Of Genres\"] > 1]['movie title'].count())\n",
    "\n",
    "\n"
   ]
  },
  {
   "cell_type": "markdown",
   "metadata": {},
   "source": [
    "### 7. Univariate plots of columns: 'rating', 'Age', 'release year', 'Gender' and 'Occupation' - 10 marks\n",
    "\n",
    "*HINT: Use distplot for age. Use lineplot or countplot for release year.*\n",
    "\n",
    "*HINT: Plot percentages in y-axis and categories in x-axis for ratings, gender and occupation*\n",
    "\n",
    "*HINT: Please refer to the below snippet to understand how to get to release year from release date. You can use str.split() as depicted below or you could convert it to pandas datetime format and extract year (.dt.year)*"
   ]
  },
  {
   "cell_type": "code",
   "execution_count": 7,
   "metadata": {},
   "outputs": [
    {
     "name": "stdout",
     "output_type": "stream",
     "text": [
      "brown\n",
      "brown\n",
      "brown\n"
     ]
    }
   ],
   "source": [
    "a = 'My*cat*is*brown'\n",
    "print(a.split('*')[3])\n",
    "\n",
    "#similarly, the release year needs to be taken out from release date\n",
    "\n",
    "#also you can simply slice existing string to get the desired data, if we want to take out the colour of the cat\n",
    "\n",
    "print(a[10:])\n",
    "print(a[-5:])"
   ]
  },
  {
   "cell_type": "code",
   "execution_count": 8,
   "metadata": {},
   "outputs": [
    {
     "data": {
      "image/png": "[encoded data removed]",
      "text/plain": [
       "<Figure size 432x288 with 1 Axes>"
      ]
     },
     "metadata": {
      "needs_background": "light"
     },
     "output_type": "display_data"
    },
    {
     "data": {
      "image/png": "[encoded data removed]",
      "text/plain": [
       "<Figure size 1440x360 with 1 Axes>"
      ]
     },
     "metadata": {
      "needs_background": "light"
     },
     "output_type": "display_data"
    },
    {
     "data": {
      "image/png": "[encoded data removed]",
      "text/plain": [
       "<Figure size 432x288 with 1 Axes>"
      ]
     },
     "metadata": {
      "needs_background": "light"
     },
     "output_type": "display_data"
    },
    {
     "data": {
      "image/png": "[encoded data removed]",
      "text/plain": [
       "<Figure size 432x288 with 1 Axes>"
      ]
     },
     "metadata": {
      "needs_background": "light"
     },
     "output_type": "display_data"
    },
    {
     "data": {
      "image/png": "[encoded data removed]",
      "text/plain": [
       "<Figure size 432x288 with 1 Axes>"
      ]
     },
     "metadata": {
      "needs_background": "light"
     },
     "output_type": "display_data"
    }
   ],
   "source": [
    "if 'Release Year' in movies_df.columns:\n",
    "    movies_df.drop('Release Year',axis=1,inplace=True)\n",
    "    \n",
    "#Create a new series with year extracted\n",
    "movies_df[\"Release Year\"] = pd.DatetimeIndex(movies_df[\"release date\"]).year\n",
    "\n",
    "#Dist plot for \"age\"\n",
    "sns.distplot(users_df[\"age\"])\n",
    "plt.show()\n",
    "\n",
    "#Count plot for \"Release Year\"\n",
    "plt.figure(figsize=(20,5))\n",
    "release_year_chart = sns.countplot(movies_df[\"Release Year\"])\n",
    "release_year_chart.set_xticklabels(release_year_chart.get_xticklabels(),rotation=90);\n",
    "plt.show()\n",
    "\n",
    "#Bar chart for \"rating\"\n",
    "rating_bar_chart = ((ratings_df['rating'].value_counts() / ratings_df['rating'].value_counts().sum())*100).plot.bar()\n",
    "rating_bar_chart.set(yLabel=\"Percentage\")\n",
    "plt.show()\n",
    "\n",
    "#Bar chart for \"gender\"\n",
    "gender_bar_chart = ((users_df['gender'].value_counts() / users_df['gender'].value_counts().sum())*100).plot.bar()\n",
    "gender_bar_chart.set(yLabel=\"Percentage\")\n",
    "plt.show()\n",
    "\n",
    "#Bar chart for \"occupation\"\n",
    "occupation_bar_chart = ((users_df['occupation'].value_counts() / users_df['occupation'].value_counts().sum())*100).plot.bar()\n",
    "occupation_bar_chart.set(yLabel=\"Percentage\")\n",
    "plt.show()\n"
   ]
  },
  {
   "cell_type": "markdown",
   "metadata": {},
   "source": [
    "### 8. Visualize how popularity of genres has changed over the years - 10 marks\n",
    "\n",
    "Note that you need to use the **percent of number of releases in a year** as a parameter of popularity of a genre\n",
    "\n",
    "Hint 1: You need to reach to a data frame where the release year is the index and the genre is the column names (one cell shows the number of release in a year in one genre) or vice versa. (Drop unnecessary column if there are any)\n",
    "\n",
    "Hint 2: Find the total number of movies release in a year(use `sum(axis=1)` store that value in a new column as 'total'). Now divide the value of each genre in that year by total to get percentage number of release in a particular year.\n",
    "`(df.div(df['total'], axis= 0) * 100)`\n",
    "\n",
    "Once that is achieved, you can either use univariate plots or can use the heatmap to visualise all the changes over the years \n",
    "in one go. \n",
    "\n",
    "Hint 3: Use groupby on the relevant column and use sum() on the same to find out the number of releases in a year/genre.  "
   ]
  },
  {
   "cell_type": "code",
   "execution_count": 9,
   "metadata": {},
   "outputs": [
    {
     "data": {
      "text/plain": [
       "<matplotlib.axes._subplots.AxesSubplot at 0x1e3fe4f6be0>"
      ]
     },
     "execution_count": 9,
     "metadata": {},
     "output_type": "execute_result"
    },
    {
     "data": {
      "image/png": "[encoded data removed]",
      "text/plain": [
       "<Figure size 1440x720 with 2 Axes>"
      ]
     },
     "metadata": {
      "needs_background": "light"
     },
     "output_type": "display_data"
    }
   ],
   "source": [
    "#make a copy\n",
    "movies_df_copy1 = movies_df.copy()\n",
    "#set index to \"Release year\"\n",
    "movies_df_copy1.set_index(\"Release Year\",inplace=True)\n",
    "#drop unnecessary columns\n",
    "movies_df_copy1.drop([\"movie id\",\"movie title\",\"release date\",\"Number Of Genres\"],axis=1,inplace=True)\n",
    "movies_df_copy1 = movies_df_copy1.groupby(\"Release Year\").sum()\n",
    "movies_df_copy1[\"total\"] = movies_df_copy1.sum(axis=1)\n",
    "#remove total column\n",
    "column_list = list(movies_df_copy1.columns)\n",
    "column_list.remove(\"total\")\n",
    "movies_df_copy1 = movies_df_copy1[column_list].div(movies_df_copy1['total'], axis= 0) * 100\n",
    "plt.figure(figsize=(20,10))\n",
    "sns.heatmap(movies_df_copy1)"
   ]
  },
  {
   "cell_type": "markdown",
   "metadata": {},
   "source": [
    "### 9. Find the top 25 movies according to average ratings such that each movie has number of ratings more than 100 - 10 marks\n",
    "\n",
    "Hints : \n",
    "\n",
    "1. Find the count of ratings and average ratings for every movie.\n",
    "2. Slice the movies which have ratings more than 100.\n",
    "3. Sort values according to average rating such that movie which highest rating is on top.\n",
    "4. Select top 25 movies.\n",
    "5. You will have to use the .merge() function to get the movie titles.\n",
    "\n",
    "Note: This question will need you to research about groupby and apply your findings. You can find more on groupby on https://realpython.com/pandas-groupby/."
   ]
  },
  {
   "cell_type": "code",
   "execution_count": 10,
   "metadata": {},
   "outputs": [
    {
     "data": {
      "text/html": [
       "<div>\n",
       "<style scoped>\n",
       "    .dataframe tbody tr th:only-of-type {\n",
       "        vertical-align: middle;\n",
       "    }\n",
       "\n",
       "    .dataframe tbody tr th {\n",
       "        vertical-align: top;\n",
       "    }\n",
       "\n",
       "    .dataframe thead th {\n",
       "        text-align: right;\n",
       "    }\n",
       "</style>\n",
       "<table border=\"1\" class=\"dataframe\">\n",
       "  <thead>\n",
       "    <tr style=\"text-align: right;\">\n",
       "      <th></th>\n",
       "      <th>movie id</th>\n",
       "      <th>rating avg</th>\n",
       "      <th>rating count</th>\n",
       "      <th>movie title</th>\n",
       "    </tr>\n",
       "  </thead>\n",
       "  <tbody>\n",
       "    <tr>\n",
       "      <th>0</th>\n",
       "      <td>845</td>\n",
       "      <td>4.491071</td>\n",
       "      <td>503.0</td>\n",
       "      <td>That Thing You Do!</td>\n",
       "    </tr>\n",
       "    <tr>\n",
       "      <th>1</th>\n",
       "      <td>303</td>\n",
       "      <td>4.466443</td>\n",
       "      <td>1331.0</td>\n",
       "      <td>Ulee's Gold</td>\n",
       "    </tr>\n",
       "    <tr>\n",
       "      <th>2</th>\n",
       "      <td>177</td>\n",
       "      <td>4.466102</td>\n",
       "      <td>527.0</td>\n",
       "      <td>Good, The Bad and The Ugly, The</td>\n",
       "    </tr>\n",
       "    <tr>\n",
       "      <th>3</th>\n",
       "      <td>568</td>\n",
       "      <td>4.456790</td>\n",
       "      <td>1083.0</td>\n",
       "      <td>Speed</td>\n",
       "    </tr>\n",
       "    <tr>\n",
       "      <th>4</th>\n",
       "      <td>144</td>\n",
       "      <td>4.447761</td>\n",
       "      <td>298.0</td>\n",
       "      <td>Die Hard</td>\n",
       "    </tr>\n",
       "    <tr>\n",
       "      <th>5</th>\n",
       "      <td>919</td>\n",
       "      <td>4.445230</td>\n",
       "      <td>1258.0</td>\n",
       "      <td>City of Lost Children, The</td>\n",
       "    </tr>\n",
       "    <tr>\n",
       "      <th>6</th>\n",
       "      <td>1028</td>\n",
       "      <td>4.387560</td>\n",
       "      <td>917.0</td>\n",
       "      <td>Grumpier Old Men</td>\n",
       "    </tr>\n",
       "    <tr>\n",
       "      <th>7</th>\n",
       "      <td>222</td>\n",
       "      <td>4.385768</td>\n",
       "      <td>1171.0</td>\n",
       "      <td>Star Trek: First Contact</td>\n",
       "    </tr>\n",
       "    <tr>\n",
       "      <th>8</th>\n",
       "      <td>100</td>\n",
       "      <td>4.358491</td>\n",
       "      <td>2541.0</td>\n",
       "      <td>Fargo</td>\n",
       "    </tr>\n",
       "    <tr>\n",
       "      <th>9</th>\n",
       "      <td>164</td>\n",
       "      <td>4.344000</td>\n",
       "      <td>543.0</td>\n",
       "      <td>Abyss, The</td>\n",
       "    </tr>\n",
       "    <tr>\n",
       "      <th>10</th>\n",
       "      <td>762</td>\n",
       "      <td>4.333333</td>\n",
       "      <td>312.0</td>\n",
       "      <td>Beautiful Girls</td>\n",
       "    </tr>\n",
       "    <tr>\n",
       "      <th>11</th>\n",
       "      <td>658</td>\n",
       "      <td>4.292929</td>\n",
       "      <td>850.0</td>\n",
       "      <td>Pump Up the Volume</td>\n",
       "    </tr>\n",
       "    <tr>\n",
       "      <th>12</th>\n",
       "      <td>89</td>\n",
       "      <td>4.292683</td>\n",
       "      <td>176.0</td>\n",
       "      <td>Blade Runner</td>\n",
       "    </tr>\n",
       "    <tr>\n",
       "      <th>13</th>\n",
       "      <td>188</td>\n",
       "      <td>4.292237</td>\n",
       "      <td>940.0</td>\n",
       "      <td>Full Metal Jacket</td>\n",
       "    </tr>\n",
       "    <tr>\n",
       "      <th>14</th>\n",
       "      <td>879</td>\n",
       "      <td>4.291667</td>\n",
       "      <td>1133.0</td>\n",
       "      <td>Peacemaker, The</td>\n",
       "    </tr>\n",
       "    <tr>\n",
       "      <th>15</th>\n",
       "      <td>209</td>\n",
       "      <td>4.289744</td>\n",
       "      <td>1673.0</td>\n",
       "      <td>This Is Spinal Tap</td>\n",
       "    </tr>\n",
       "    <tr>\n",
       "      <th>16</th>\n",
       "      <td>305</td>\n",
       "      <td>4.284916</td>\n",
       "      <td>767.0</td>\n",
       "      <td>Ice Storm, The</td>\n",
       "    </tr>\n",
       "    <tr>\n",
       "      <th>17</th>\n",
       "      <td>750</td>\n",
       "      <td>4.283293</td>\n",
       "      <td>1769.0</td>\n",
       "      <td>Amistad</td>\n",
       "    </tr>\n",
       "    <tr>\n",
       "      <th>18</th>\n",
       "      <td>468</td>\n",
       "      <td>4.265432</td>\n",
       "      <td>691.0</td>\n",
       "      <td>Rudy</td>\n",
       "    </tr>\n",
       "    <tr>\n",
       "      <th>19</th>\n",
       "      <td>56</td>\n",
       "      <td>4.262626</td>\n",
       "      <td>844.0</td>\n",
       "      <td>Pulp Fiction</td>\n",
       "    </tr>\n",
       "    <tr>\n",
       "      <th>20</th>\n",
       "      <td>339</td>\n",
       "      <td>4.260870</td>\n",
       "      <td>196.0</td>\n",
       "      <td>Mad City</td>\n",
       "    </tr>\n",
       "    <tr>\n",
       "      <th>21</th>\n",
       "      <td>655</td>\n",
       "      <td>4.259542</td>\n",
       "      <td>558.0</td>\n",
       "      <td>Stand by Me</td>\n",
       "    </tr>\n",
       "    <tr>\n",
       "      <th>22</th>\n",
       "      <td>480</td>\n",
       "      <td>4.252577</td>\n",
       "      <td>825.0</td>\n",
       "      <td>North by Northwest</td>\n",
       "    </tr>\n",
       "    <tr>\n",
       "      <th>23</th>\n",
       "      <td>294</td>\n",
       "      <td>4.252381</td>\n",
       "      <td>1786.0</td>\n",
       "      <td>Liar Liar</td>\n",
       "    </tr>\n",
       "    <tr>\n",
       "      <th>24</th>\n",
       "      <td>404</td>\n",
       "      <td>4.251397</td>\n",
       "      <td>761.0</td>\n",
       "      <td>Pinocchio</td>\n",
       "    </tr>\n",
       "  </tbody>\n",
       "</table>\n",
       "</div>"
      ],
      "text/plain": [
       "    movie id  rating avg  rating count                       movie title\n",
       "0        845    4.491071         503.0               That Thing You Do! \n",
       "1        303    4.466443        1331.0                      Ulee's Gold \n",
       "2        177    4.466102         527.0  Good, The Bad and The Ugly, The \n",
       "3        568    4.456790        1083.0                            Speed \n",
       "4        144    4.447761         298.0                         Die Hard \n",
       "5        919    4.445230        1258.0       City of Lost Children, The \n",
       "6       1028    4.387560         917.0                 Grumpier Old Men \n",
       "7        222    4.385768        1171.0         Star Trek: First Contact \n",
       "8        100    4.358491        2541.0                            Fargo \n",
       "9        164    4.344000         543.0                       Abyss, The \n",
       "10       762    4.333333         312.0                  Beautiful Girls \n",
       "11       658    4.292929         850.0               Pump Up the Volume \n",
       "12        89    4.292683         176.0                     Blade Runner \n",
       "13       188    4.292237         940.0                Full Metal Jacket \n",
       "14       879    4.291667        1133.0                  Peacemaker, The \n",
       "15       209    4.289744        1673.0               This Is Spinal Tap \n",
       "16       305    4.284916         767.0                   Ice Storm, The \n",
       "17       750    4.283293        1769.0                          Amistad \n",
       "18       468    4.265432         691.0                             Rudy \n",
       "19        56    4.262626         844.0                     Pulp Fiction \n",
       "20       339    4.260870         196.0                         Mad City \n",
       "21       655    4.259542         558.0                      Stand by Me \n",
       "22       480    4.252577         825.0               North by Northwest \n",
       "23       294    4.252381        1786.0                        Liar Liar \n",
       "24       404    4.251397         761.0                        Pinocchio "
      ]
     },
     "execution_count": 10,
     "metadata": {},
     "output_type": "execute_result"
    }
   ],
   "source": [
    "ratings_df_copy = ratings_df.copy()\n",
    "#add 2 columns \"rating count\" and \"rating avg\"\n",
    "ratings_df_copy[\"rating count\"] = ratings_df_copy.groupby(\"movie id\")[\"rating\"].sum()\n",
    "ratings_df_copy[\"rating avg\"] = ratings_df_copy.groupby(\"movie id\")[\"rating\"].mean()\n",
    "\n",
    "#filter rating data frame where \"rating count\" > 100\n",
    "ratings_df_copy = ratings_df_copy[ratings_df_copy[\"rating count\"] > 100]\n",
    "\n",
    "#Sort the data frame by \"rating avg\"\n",
    "ratings_df_copy.sort_values(by = \"rating avg\",ascending=False,inplace=True)\n",
    "\n",
    "#filter top 25 movies\n",
    "ratings_df_copy = ratings_df_copy[0:25]\n",
    "#len(ratings_df_copy)\n",
    "#ratings_df_copy\n",
    "\n",
    "#merge movies data frame to get the title\n",
    "pd.merge(ratings_df_copy[[\"movie id\",\"rating avg\",\"rating count\"]],movies_df[[\"movie id\",\"movie title\"]],how=\"inner\",on=\"movie id\")\n"
   ]
  },
  {
   "cell_type": "markdown",
   "metadata": {},
   "source": [
    "### 10. See gender distribution across different genres check for the validity of the below statements - 10 marks\n",
    "\n",
    "* Men watch more drama than women\n",
    "* Women watch more Sci-Fi than men\n",
    "* Men watch more Romance than women\n",
    "\n",
    "**compare the percentages**"
   ]
  },
  {
   "cell_type": "markdown",
   "metadata": {},
   "source": [
    "1. Merge all the datasets\n",
    "\n",
    "2. There is no need to conduct statistical tests around this. Just **compare the percentages** and comment on the validity of the above statements.\n",
    "\n",
    "3. you might want ot use the .sum(), .div() function here.\n",
    "\n",
    "4. Use number of ratings to validate the numbers. For example, if out of 4000 ratings received by women, 3000 are for drama, we will assume that 75% of the women watch drama."
   ]
  },
  {
   "cell_type": "code",
   "execution_count": 11,
   "metadata": {},
   "outputs": [
    {
     "name": "stdout",
     "output_type": "stream",
     "text": [
      "Men watch more drama than women :  True\n",
      "gender  Drama\n",
      "F       1        27.404356\n",
      "M       1        72.595644\n",
      "Name: rating, dtype: float64\n",
      "\n",
      "\n",
      "\n",
      "Women watch more Sci-Fi than men :  False\n",
      "gender  Sci-Fi\n",
      "F       1         20.287681\n",
      "M       1         79.712319\n",
      "Name: rating, dtype: float64\n",
      "\n",
      "\n",
      "\n",
      "Men watch more Romance than women :  True\n",
      "gender  Romance\n",
      "F       1          30.383644\n",
      "M       1          69.616356\n",
      "Name: rating, dtype: float64\n"
     ]
    }
   ],
   "source": [
    "movie_rating_df = pd.merge(movies_df,ratings_df,how=\"inner\",on=\"movie id\")\n",
    "movie_rating_user_df = pd.merge(movie_rating_df,users_df,how=\"inner\",on=\"user id\")\n",
    "movie_rating_user_df\n",
    "\n",
    "#Analyze the statement \"Men watch more drama than women\"\n",
    "drama_sum = (movie_rating_user_df[movie_rating_user_df[\"Drama\"] == 1]).groupby([\"gender\",\"Drama\"])[\"rating\"].sum() \n",
    "drama_percentage = (drama_sum /drama_sum.sum()) * 100\n",
    "print(\"Men watch more drama than women : \",\"True\")\n",
    "print(drama_percentage)\n",
    "\n",
    "print(\"\\n\\n\")\n",
    "\n",
    "#Analzye the statement \"Women watch more Sci-Fi than men\"\n",
    "scifi_sum = (movie_rating_user_df[movie_rating_user_df[\"Sci-Fi\"] == 1]).groupby([\"gender\",\"Sci-Fi\"])[\"rating\"].sum() \n",
    "scifi_percentage = (scifi_sum /scifi_sum.sum()) * 100\n",
    "print(\"Women watch more Sci-Fi than men : \",\"False\")\n",
    "print(scifi_percentage)\n",
    "\n",
    "print(\"\\n\\n\")\n",
    "\n",
    "#Analyze the statement \"Men watch more Romance than women\"\n",
    "romance_sum = (movie_rating_user_df[movie_rating_user_df[\"Romance\"] == 1]).groupby([\"gender\",\"Romance\"])[\"rating\"].sum() \n",
    "romance_percentage = (romance_sum /romance_sum.sum()) * 100\n",
    "print(\"Men watch more Romance than women : \", True)\n",
    "print(romance_percentage)"
   ]
  }
 ],
 "metadata": {
  "kernelspec": {
   "display_name": "Python 3",
   "language": "python",
   "name": "python3"
  },
  "language_info": {
   "codemirror_mode": {
    "name": "ipython",
    "version": 3
   },
   "file_extension": ".py",
   "mimetype": "text/x-python",
   "name": "python",
   "nbconvert_exporter": "python",
   "pygments_lexer": "ipython3",
   "version": "3.8.3"
  }
 },
 "nbformat": 4,
 "nbformat_minor": 2
}
